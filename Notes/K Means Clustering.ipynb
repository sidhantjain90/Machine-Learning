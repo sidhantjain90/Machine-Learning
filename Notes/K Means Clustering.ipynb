{
 "cells": [
  {
   "cell_type": "markdown",
   "metadata": {},
   "source": [
    "# K-Means"
   ]
  },
  {
   "cell_type": "markdown",
   "metadata": {},
   "source": [
    "- K-means is a simple and elegant approach for partitioning a data into K distinct, non-overlapping clusters.\n",
    "- To perform K-means we must first specify the desired number of clusters K.\n",
    "- Then the K-means clustering will assign each observation to exactly one of the k clusters."
   ]
  },
  {
   "cell_type": "markdown",
   "metadata": {},
   "source": [
    "- Let $C_1, ...C_k$ denote sets containing the indices of the observations in each cluster.\n",
    "- These sets satisfy two properties:\n",
    "    1. $C_1 \\cup  C_2 \\cup... \\cup C_k = {1,...n}$. Each observation belongs to atleast one class.\n",
    "    2. $C_k \\cap C_{k'} = 0$ for all $k \\ne k'$. Clusters are non-overlapping: No observation belong to more than one cluster.\n",
    "- The concept is that the within-cluster variation should be as small as possible.\n",
    "- The within-cluster variation for cluster $C_k$ is a measure $W(C_k)$ of the amount by which the observations within a cluster differ from each other.\n",
    "- Hence we want to solve the problem \n",
    "\n",
    "    $minimize {\\sum_{k=1}^{K} W(C_k)}$      \n",
    "- The most common choice to define this concept is the squared Euclidean distance.\n",
    "\n",
    "    $W(C_k) = \\frac{1}{|C_k|} \\sum_{i,i' \\in C_k}^{} \\sum_{j=1}^{p} (x_{ij} - x_{i'j})^2 $"
   ]
  },
  {
   "cell_type": "markdown",
   "metadata": {},
   "source": [
    "- Where $|C_k|$ denotes the number of observations in kth cluster. \n",
    "- The within-cluster variation for the kth cluster is the sum of all of the pairwise squared Euclidean distances between the observations in the kth cluster, divided by the total number of observations in the kth cluster.\n",
    "- Combining above equations give the optimization problem as :\n",
    "\n",
    "    $minimize{\\sum_{k=1}^{K} \\frac{1}{|C_k|} \\sum_{i,i' \\in C_k}^{} \\sum_{j=1}^{p} (x_{ij} - x_{i'j})^2} $"
   ]
  },
  {
   "cell_type": "markdown",
   "metadata": {},
   "source": [
    "Algorithm:\n",
    "\n",
    "- Start with a set of k-means, which are points in n-dimensional space\n",
    "- Assign each point to the mean to which it is closest\n",
    "- If no point's assignment has been changed, stop and keep the clusters\n",
    "- If somr point's assignment has been changed, recompute the mean and return to step 2"
   ]
  },
  {
   "cell_type": "code",
   "execution_count": 1,
   "metadata": {},
   "outputs": [],
   "source": [
    "class KMeans:\n",
    "    \"\"\"Performs K-means clustering\"\"\"\n",
    "    def __init__(self,k):\n",
    "        self.k = k          # Number of clusters\n",
    "        self.means = None   # means of clusters\n",
    "    \n",
    "    def classify(self, input):\n",
    "        \"\"\"return the index of cluster closest to the input\"\"\"\n",
    "        return min(range(self.k),\n",
    "                   key= lambda i:squared_distance(input, self.means[i])) # Closest distance between centroid/means and observation points(input)\n",
    "    \n",
    "   # def squared_distance(v,w):\n",
    "   #     return sum_of_squares(vector_subtract(v,w))\n",
    "   \n",
    "   \n",
    "    def train(self,inputs):\n",
    "        \"\"\"choose k random points as the initial means\"\"\"\n",
    "        self.means = random.sample(inputs, self.k)\n",
    "        assignments = None\n",
    "        \n",
    "        while True:\n",
    "            # Find new assignments\n",
    "            new_assignments = map(self.classify, inputs)\n",
    "            \n",
    "            # If no assignments have changed, we're done\n",
    "            if assignments == new_assignments:\n",
    "            return\n",
    "            \n",
    "            # Otherwise keep the new assignments\n",
    "            assignments = new_assignments\n",
    "            \n",
    "            # And compute the new means based on new assignments\n",
    "            for i in range(self.k):\n",
    "                # find all the points assigned to cluster i\n",
    "                i_points = [p for p,a in zip(inputs, assignments) if a == i]\n",
    "                \n",
    "                # make sure i_points is not empty so don't divide by 0\n",
    "                if i_points:\n",
    "                    self.means[i] = vector_mean(i_points)\n",
    "                    \n",
    "                    \n",
    "\n",
    "                    \n",
    "# random seed(0)\n",
    "# Clusterer = KMeans(3)\n",
    "# Clusterer.train(inputs)\n",
    "# print(Clusterer.means)"
   ]
  },
  {
   "cell_type": "code",
   "execution_count": null,
   "metadata": {},
   "outputs": [],
   "source": []
  }
 ],
 "metadata": {
  "kernelspec": {
   "display_name": "Python 3",
   "language": "python",
   "name": "python3"
  },
  "language_info": {
   "codemirror_mode": {
    "name": "ipython",
    "version": 3
   },
   "file_extension": ".py",
   "mimetype": "text/x-python",
   "name": "python",
   "nbconvert_exporter": "python",
   "pygments_lexer": "ipython3",
   "version": "3.7.3"
  }
 },
 "nbformat": 4,
 "nbformat_minor": 2
}
